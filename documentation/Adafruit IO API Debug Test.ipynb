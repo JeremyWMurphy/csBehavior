{
 "cells": [
  {
   "cell_type": "code",
   "execution_count": null,
   "metadata": {},
   "outputs": [],
   "source": [
    "Testing Adafruit IO API"
   ]
  },
  {
   "cell_type": "code",
   "execution_count": 40,
   "metadata": {},
   "outputs": [],
   "source": [
    "import datetime\n",
    "from Adafruit_IO import *\n"
   ]
  },
  {
   "cell_type": "code",
   "execution_count": 72,
   "metadata": {},
   "outputs": [],
   "source": [
    "dStamp=datetime.datetime.now().strftime(\"%m_%d_%Y\")\n",
    "hashPath = '/Users/cad/simpHashes/csIO.txt'"
   ]
  },
  {
   "cell_type": "code",
   "execution_count": 77,
   "metadata": {},
   "outputs": [],
   "source": [
    "def connect_REST(hashPath):\n",
    "    simpHash=open(hashPath)\n",
    "    a=list(simpHash)\n",
    "    userName = a[0].strip()\n",
    "    apiKey = a[1]\n",
    "    restClient = Client(userName,apiKey)\n",
    "    return restClient\n",
    "    \n",
    "def connect_MQTT(hashPath):\n",
    "    simpHash=open(hashPath)\n",
    "    a=list(simpHash)\n",
    "    userName = a[0].strip()\n",
    "    apiKey = a[1]\n",
    "    mqttClient = MQTTClient(userName,apiKey)\n",
    "    return mqttClient"
   ]
  },
  {
   "cell_type": "code",
   "execution_count": 78,
   "metadata": {},
   "outputs": [],
   "source": [
    "aio=connect_REST(hashPath)"
   ]
  },
  {
   "cell_type": "code",
   "execution_count": 79,
   "metadata": {},
   "outputs": [
    {
     "data": {
      "text/plain": [
       "[Feed(name='2p_online', key='2p-online', description=None, unit_type=None, unit_symbol=None, history=True, visibility='private', license=None, status_notify=False, status_timeout=60),\n",
       " Feed(name='2P_BeamExpander', key='2p-beamexpander', description='', unit_type=None, unit_symbol=None, history=True, visibility='private', license=None, status_notify=False, status_timeout=60),\n",
       " Feed(name='2P_Humidity', key='2p-humidity', description=None, unit_type=None, unit_symbol=None, history=True, visibility='private', license=None, status_notify=False, status_timeout=60),\n",
       " Feed(name='2P_Temp', key='2p-temp', description=None, unit_type=None, unit_symbol=None, history=True, visibility='private', license=None, status_notify=False, status_timeout=60),\n",
       " Feed(name='pushbutton', key='pushbutton', description=None, unit_type=None, unit_symbol=None, history=True, visibility='private', license=None, status_notify=False, status_timeout=60),\n",
       " Feed(name='rig_cadbook', key='rig-cadbook', description=None, unit_type=None, unit_symbol=None, history=True, visibility='private', license=None, status_notify=False, status_timeout=60),\n",
       " Feed(name='ci01_weight', key='ci01-weight', description=None, unit_type=None, unit_symbol=None, history=True, visibility='private', license=None, status_notify=False, status_timeout=60),\n",
       " Feed(name='ci01_waterConsumed', key='ci01-waterconsumed', description=None, unit_type=None, unit_symbol=None, history=True, visibility='private', license=None, status_notify=False, status_timeout=60),\n",
       " Feed(name='ci01_rig', key='ci01-rig', description=None, unit_type=None, unit_symbol=None, history=True, visibility='private', license=None, status_notify=False, status_timeout=60),\n",
       " Feed(name='ci02_weight', key='ci02-weight', description=None, unit_type=None, unit_symbol=None, history=True, visibility='private', license=None, status_notify=False, status_timeout=60),\n",
       " Feed(name='ci02_waterConsumed', key='ci02-waterconsumed', description=None, unit_type=None, unit_symbol=None, history=True, visibility='private', license=None, status_notify=False, status_timeout=60),\n",
       " Feed(name='ci02_rig', key='ci02-rig', description=None, unit_type=None, unit_symbol=None, history=True, visibility='private', license=None, status_notify=False, status_timeout=60),\n",
       " Feed(name='ci03_weight', key='ci03-weight', description=None, unit_type=None, unit_symbol=None, history=True, visibility='private', license=None, status_notify=False, status_timeout=60),\n",
       " Feed(name='ci03_waterConsumed', key='ci03-waterconsumed', description=None, unit_type=None, unit_symbol=None, history=True, visibility='private', license=None, status_notify=False, status_timeout=60),\n",
       " Feed(name='ci03_rig', key='ci03-rig', description=None, unit_type=None, unit_symbol=None, history=True, visibility='private', license=None, status_notify=False, status_timeout=60),\n",
       " Feed(name='ci04_weight', key='ci04-weight', description=None, unit_type=None, unit_symbol=None, history=True, visibility='private', license=None, status_notify=False, status_timeout=60),\n",
       " Feed(name='ci04_waterConsumed', key='ci04-waterconsumed', description=None, unit_type=None, unit_symbol=None, history=True, visibility='private', license=None, status_notify=False, status_timeout=60),\n",
       " Feed(name='ci04_rig', key='ci04-rig', description=None, unit_type=None, unit_symbol=None, history=True, visibility='private', license=None, status_notify=False, status_timeout=60),\n",
       " Feed(name='ci05_weight', key='ci05-weight', description=None, unit_type=None, unit_symbol=None, history=True, visibility='private', license=None, status_notify=False, status_timeout=60),\n",
       " Feed(name='ci05_waterConsumed', key='ci05-waterconsumed', description=None, unit_type=None, unit_symbol=None, history=True, visibility='private', license=None, status_notify=False, status_timeout=60),\n",
       " Feed(name='ci05_rig', key='ci05-rig', description=None, unit_type=None, unit_symbol=None, history=True, visibility='private', license=None, status_notify=False, status_timeout=60),\n",
       " Feed(name='an1_weight', key='an1-weight', description=None, unit_type=None, unit_symbol=None, history=True, visibility='private', license=None, status_notify=False, status_timeout=60),\n",
       " Feed(name='an1_waterConsumed', key='an1-waterconsumed', description=None, unit_type=None, unit_symbol=None, history=True, visibility='private', license=None, status_notify=False, status_timeout=60),\n",
       " Feed(name='an1_rig', key='an1-rig', description=None, unit_type=None, unit_symbol=None, history=True, visibility='private', license=None, status_notify=False, status_timeout=60),\n",
       " Feed(name='ci01_topVol', key='ci01-topvol', description=None, unit_type=None, unit_symbol=None, history=True, visibility='private', license=None, status_notify=False, status_timeout=60),\n",
       " Feed(name='ci02_topVol', key='ci02-topvol', description=None, unit_type=None, unit_symbol=None, history=True, visibility='private', license=None, status_notify=False, status_timeout=60),\n",
       " Feed(name='ci03_topVol', key='ci03-topvol', description=None, unit_type=None, unit_symbol=None, history=True, visibility='private', license=None, status_notify=False, status_timeout=60),\n",
       " Feed(name='ci04_topVol', key='ci04-topvol', description=None, unit_type=None, unit_symbol=None, history=True, visibility='private', license=None, status_notify=False, status_timeout=60),\n",
       " Feed(name='ci05_topVol', key='ci05-topvol', description=None, unit_type=None, unit_symbol=None, history=True, visibility='private', license=None, status_notify=False, status_timeout=60),\n",
       " Feed(name='an1_topVol', key='an1-topvol', description=None, unit_type=None, unit_symbol=None, history=True, visibility='private', license=None, status_notify=False, status_timeout=60),\n",
       " Feed(name='rig_Crill', key='rig-crill', description=None, unit_type=None, unit_symbol=None, history=True, visibility='private', license=None, status_notify=False, status_timeout=60),\n",
       " Feed(name='cdt1_rig', key='cdt1-rig', description=None, unit_type=None, unit_symbol=None, history=True, visibility='private', license=None, status_notify=False, status_timeout=60),\n",
       " Feed(name='cdt1_weight', key='cdt1-weight', description=None, unit_type=None, unit_symbol=None, history=True, visibility='private', license=None, status_notify=False, status_timeout=60),\n",
       " Feed(name='cad_rig', key='cad-rig', description=None, unit_type=None, unit_symbol=None, history=True, visibility='private', license=None, status_notify=False, status_timeout=60),\n",
       " Feed(name='cad_weight', key='cad-weight', description=None, unit_type=None, unit_symbol=None, history=True, visibility='private', license=None, status_notify=False, status_timeout=60),\n",
       " Feed(name='cad_waterConsumed', key='cad-waterconsumed', description='', unit_type=None, unit_symbol=None, history=True, visibility='private', license=None, status_notify=False, status_timeout=60),\n",
       " Feed(name='cad_topVol', key='cad-topvol', description='', unit_type=None, unit_symbol=None, history=True, visibility='private', license=None, status_notify=False, status_timeout=60),\n",
       " Feed(name='ciX2_rig', key='cix2-rig', description='', unit_type=None, unit_symbol=None, history=True, visibility='private', license=None, status_notify=False, status_timeout=60),\n",
       " Feed(name='ciX2_weight', key='cix2-weight', description='', unit_type=None, unit_symbol=None, history=True, visibility='private', license=None, status_notify=False, status_timeout=60),\n",
       " Feed(name='ciX2_topVol', key='cix2-topvol', description='', unit_type=None, unit_symbol=None, history=True, visibility='private', license=None, status_notify=False, status_timeout=60),\n",
       " Feed(name='ciX2_waterConsumed', key='cix2-waterconsumed', description='', unit_type=None, unit_symbol=None, history=True, visibility='private', license=None, status_notify=False, status_timeout=60),\n",
       " Feed(name='ciX3_waterConsumed', key='cix3-waterconsumed', description='', unit_type=None, unit_symbol=None, history=True, visibility='private', license=None, status_notify=False, status_timeout=60),\n",
       " Feed(name='ciX3_weight', key='cix3-weight', description='', unit_type=None, unit_symbol=None, history=True, visibility='private', license=None, status_notify=False, status_timeout=60),\n",
       " Feed(name='ciX3_rig', key='cix3-rig', description='', unit_type=None, unit_symbol=None, history=True, visibility='private', license=None, status_notify=False, status_timeout=60),\n",
       " Feed(name='ciX3_topVol', key='cix3-topvol', description='', unit_type=None, unit_symbol=None, history=True, visibility='private', license=None, status_notify=False, status_timeout=60),\n",
       " Feed(name='ciX4_waterConsumed', key='cix4-waterconsumed', description='', unit_type=None, unit_symbol=None, history=True, visibility='private', license=None, status_notify=False, status_timeout=60),\n",
       " Feed(name='cix4_topVol', key='cix4-topvol', description='', unit_type=None, unit_symbol=None, history=True, visibility='private', license=None, status_notify=False, status_timeout=60),\n",
       " Feed(name='ciX4_rig', key='cix4-rig', description='', unit_type=None, unit_symbol=None, history=True, visibility='private', license=None, status_notify=False, status_timeout=60),\n",
       " Feed(name='ciX4_weight', key='cix4-weight', description='', unit_type=None, unit_symbol=None, history=True, visibility='private', license=None, status_notify=False, status_timeout=60),\n",
       " Feed(name='sm1_rig', key='sm1-rig', description='', unit_type=None, unit_symbol=None, history=True, visibility='private', license=None, status_notify=False, status_timeout=60),\n",
       " Feed(name='sm1_topVol', key='sm1-topvol', description='', unit_type=None, unit_symbol=None, history=True, visibility='private', license=None, status_notify=False, status_timeout=60),\n",
       " Feed(name='sm1_waterConsumed', key='sm1-waterconsumed', description='', unit_type=None, unit_symbol=None, history=True, visibility='private', license=None, status_notify=False, status_timeout=60),\n",
       " Feed(name='sm1_weigth', key='sm1-weigth', description='', unit_type=None, unit_symbol=None, history=True, visibility='private', license=None, status_notify=False, status_timeout=60),\n",
       " Feed(name='sm1_weight', key='sm1-weight', description='', unit_type=None, unit_symbol=None, history=True, visibility='private', license=None, status_notify=False, status_timeout=60),\n",
       " Feed(name='ciX5_rig', key='cix5-rig', description=None, unit_type=None, unit_symbol=None, history=True, visibility='private', license=None, status_notify=False, status_timeout=60),\n",
       " Feed(name='ciX5_weight', key='cix5-weight', description=None, unit_type=None, unit_symbol=None, history=True, visibility='private', license=None, status_notify=False, status_timeout=60),\n",
       " Feed(name='ciX5_waterConsumed', key='cix5-waterconsumed', description='', unit_type=None, unit_symbol=None, history=True, visibility='private', license=None, status_notify=False, status_timeout=60),\n",
       " Feed(name='ciX5_topVol', key='cix5-topvol', description='', unit_type=None, unit_symbol=None, history=True, visibility='private', license=None, status_notify=False, status_timeout=60),\n",
       " Feed(name='ciX7_topVol', key='cix7-topvol', description='', unit_type=None, unit_symbol=None, history=True, visibility='private', license=None, status_notify=False, status_timeout=60),\n",
       " Feed(name='ciX7_weight', key='cix7-weight', description='', unit_type=None, unit_symbol=None, history=True, visibility='private', license=None, status_notify=False, status_timeout=60),\n",
       " Feed(name='ciX7_rig', key='cix7-rig', description='', unit_type=None, unit_symbol=None, history=True, visibility='private', license=None, status_notify=False, status_timeout=60),\n",
       " Feed(name='ciX7_waterConsumed', key='cix7-waterconsumed', description='', unit_type=None, unit_symbol=None, history=True, visibility='private', license=None, status_notify=False, status_timeout=60),\n",
       " Feed(name='Desktop_rig', key='desktop-rig', description=None, unit_type=None, unit_symbol=None, history=True, visibility='private', license=None, status_notify=False, status_timeout=60),\n",
       " Feed(name='Desktop_weight', key='desktop-weight', description=None, unit_type=None, unit_symbol=None, history=True, visibility='private', license=None, status_notify=False, status_timeout=60),\n",
       " Feed(name='rig_deisterPi', key='rig-deisterpi', description=None, unit_type=None, unit_symbol=None, history=True, visibility='private', license=None, status_notify=False, status_timeout=60),\n",
       " Feed(name='rig_csPiOne', key='rig-cspione', description=None, unit_type=None, unit_symbol=None, history=True, visibility='private', license=None, status_notify=False, status_timeout=60),\n",
       " Feed(name='rig_csPiCad', key='rig-cspicad', description=None, unit_type=None, unit_symbol=None, history=True, visibility='private', license=None, status_notify=False, status_timeout=60),\n",
       " Feed(name='rig_BeagleBoard-X15', key='rig-beagleboard-x15', description=None, unit_type=None, unit_symbol=None, history=True, visibility='private', license=None, status_notify=False, status_timeout=60),\n",
       " Feed(name='cad3_rig', key='cad3-rig', description=None, unit_type=None, unit_symbol=None, history=True, visibility='private', license=None, status_notify=False, status_timeout=60),\n",
       " Feed(name='cad3_weight', key='cad3-weight', description=None, unit_type=None, unit_symbol=None, history=True, visibility='private', license=None, status_notify=False, status_timeout=60),\n",
       " Feed(name='cad3_waterConsumed', key='cad3-waterconsumed', description=None, unit_type=None, unit_symbol=None, history=True, visibility='private', license=None, status_notify=False, status_timeout=60),\n",
       " Feed(name='cad3_topVol', key='cad3-topvol', description=None, unit_type=None, unit_symbol=None, history=True, visibility='private', license=None, status_notify=False, status_timeout=60),\n",
       " Feed(name='cix10_rig', key='cix10-rig', description=None, unit_type=None, unit_symbol=None, history=True, visibility='private', license=None, status_notify=False, status_timeout=60),\n",
       " Feed(name='cix10_weight', key='cix10-weight', description=None, unit_type=None, unit_symbol=None, history=True, visibility='private', license=None, status_notify=False, status_timeout=60),\n",
       " Feed(name='cix10_waterConsumed', key='cix10-waterconsumed', description=None, unit_type=None, unit_symbol=None, history=True, visibility='private', license=None, status_notify=False, status_timeout=60),\n",
       " Feed(name='cix10_topVol', key='cix10-topvol', description=None, unit_type=None, unit_symbol=None, history=True, visibility='private', license=None, status_notify=False, status_timeout=60),\n",
       " Feed(name='cix11_rig', key='cix11-rig', description=None, unit_type=None, unit_symbol=None, history=True, visibility='private', license=None, status_notify=False, status_timeout=60),\n",
       " Feed(name='cix11_weight', key='cix11-weight', description=None, unit_type=None, unit_symbol=None, history=True, visibility='private', license=None, status_notify=False, status_timeout=60),\n",
       " Feed(name='cix11_waterConsumed', key='cix11-waterconsumed', description=None, unit_type=None, unit_symbol=None, history=True, visibility='private', license=None, status_notify=False, status_timeout=60),\n",
       " Feed(name='cix11_topVol', key='cix11-topvol', description=None, unit_type=None, unit_symbol=None, history=True, visibility='private', license=None, status_notify=False, status_timeout=60),\n",
       " Feed(name='cix14_rig', key='cix14-rig', description=None, unit_type=None, unit_symbol=None, history=True, visibility='private', license=None, status_notify=False, status_timeout=60),\n",
       " Feed(name='cix14_weight', key='cix14-weight', description=None, unit_type=None, unit_symbol=None, history=True, visibility='private', license=None, status_notify=False, status_timeout=60),\n",
       " Feed(name='cix14_waterConsumed', key='cix14-waterconsumed', description=None, unit_type=None, unit_symbol=None, history=True, visibility='private', license=None, status_notify=False, status_timeout=60),\n",
       " Feed(name='cix14_topVol', key='cix14-topvol', description=None, unit_type=None, unit_symbol=None, history=True, visibility='private', license=None, status_notify=False, status_timeout=60),\n",
       " Feed(name='cix15_rig', key='cix15-rig', description=None, unit_type=None, unit_symbol=None, history=True, visibility='private', license=None, status_notify=False, status_timeout=60),\n",
       " Feed(name='cix15_weight', key='cix15-weight', description=None, unit_type=None, unit_symbol=None, history=True, visibility='private', license=None, status_notify=False, status_timeout=60),\n",
       " Feed(name='cix15_waterConsumed', key='cix15-waterconsumed', description=None, unit_type=None, unit_symbol=None, history=True, visibility='private', license=None, status_notify=False, status_timeout=60),\n",
       " Feed(name='cix15_topVol', key='cix15-topvol', description=None, unit_type=None, unit_symbol=None, history=True, visibility='private', license=None, status_notify=False, status_timeout=60),\n",
       " Feed(name='rig_csPi2b', key='rig-cspi2b', description=None, unit_type=None, unit_symbol=None, history=True, visibility='private', license=None, status_notify=False, status_timeout=60),\n",
       " Feed(name='rig_csPiTwo', key='rig-cspitwo', description=None, unit_type=None, unit_symbol=None, history=True, visibility='private', license=None, status_notify=False, status_timeout=60),\n",
       " Feed(name='rig_raspberrypi', key='rig-raspberrypi', description=None, unit_type=None, unit_symbol=None, history=True, visibility='private', license=None, status_notify=False, status_timeout=60),\n",
       " Feed(name='rig_linaro-alip', key='rig-linaro-alip', description=None, unit_type=None, unit_symbol=None, history=True, visibility='private', license=None, status_notify=False, status_timeout=60),\n",
       " Feed(name='cad2_rig', key='cad2-rig', description=None, unit_type=None, unit_symbol=None, history=True, visibility='private', license=None, status_notify=False, status_timeout=60),\n",
       " Feed(name='cad2_weight', key='cad2-weight', description=None, unit_type=None, unit_symbol=None, history=True, visibility='private', license=None, status_notify=False, status_timeout=60),\n",
       " Feed(name='cad2_waterConsumed', key='cad2-waterconsumed', description=None, unit_type=None, unit_symbol=None, history=True, visibility='private', license=None, status_notify=False, status_timeout=60),\n",
       " Feed(name='cad2_topVol', key='cad2-topvol', description=None, unit_type=None, unit_symbol=None, history=True, visibility='private', license=None, status_notify=False, status_timeout=60),\n",
       " Feed(name='rig_newRig', key='rig-newrig', description=None, unit_type=None, unit_symbol=None, history=True, visibility='private', license=None, status_notify=False, status_timeout=60),\n",
       " Feed(name='cad4_rig', key='cad4-rig', description=None, unit_type=None, unit_symbol=None, history=True, visibility='private', license=None, status_notify=False, status_timeout=60),\n",
       " Feed(name='cad_trial', key='cad-trial', description=None, unit_type=None, unit_symbol=None, history=True, visibility='private', license=None, status_notify=False, status_timeout=60),\n",
       " Feed(name='rig_beaglebone', key='rig-beaglebone', description=None, unit_type=None, unit_symbol=None, history=True, visibility='private', license=None, status_notify=False, status_timeout=60),\n",
       " Feed(name='rig_tegra-ubuntu', key='rig-tegra-ubuntu', description=None, unit_type=None, unit_symbol=None, history=True, visibility='private', license=None, status_notify=False, status_timeout=60),\n",
       " Feed(name='rig_cadTinkerBoard', key='rig-cadtinkerboard', description=None, unit_type=None, unit_symbol=None, history=True, visibility='private', license=None, status_notify=False, status_timeout=60),\n",
       " Feed(name='temperature', key='temperature', description=None, unit_type=None, unit_symbol=None, history=True, visibility='private', license=None, status_notify=False, status_timeout=60),\n",
       " Feed(name='humidity', key='humidity', description=None, unit_type=None, unit_symbol=None, history=True, visibility='private', license=None, status_notify=False, status_timeout=60),\n",
       " Feed(name='touchCount', key='touchcount', description=None, unit_type=None, unit_symbol=None, history=True, visibility='private', license=None, status_notify=False, status_timeout=60)]"
      ]
     },
     "execution_count": 79,
     "metadata": {},
     "output_type": "execute_result"
    }
   ],
   "source": [
    "# check all the feeds\n",
    "aio.feeds()"
   ]
  }
 ],
 "metadata": {
  "kernelspec": {
   "display_name": "Python 3",
   "language": "python",
   "name": "python3"
  },
  "language_info": {
   "codemirror_mode": {
    "name": "ipython",
    "version": 3
   },
   "file_extension": ".py",
   "mimetype": "text/x-python",
   "name": "python",
   "nbconvert_exporter": "python",
   "pygments_lexer": "ipython3",
   "version": "3.6.5"
  }
 },
 "nbformat": 4,
 "nbformat_minor": 2
}
